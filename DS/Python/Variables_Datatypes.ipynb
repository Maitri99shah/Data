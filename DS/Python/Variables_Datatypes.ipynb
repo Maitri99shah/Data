{
 "cells": [
  {
   "cell_type": "code",
   "execution_count": 1,
   "id": "73dedfea",
   "metadata": {},
   "outputs": [
    {
     "name": "stdout",
     "output_type": "stream",
     "text": [
      "20 is a  <class 'int'> type\n"
     ]
    }
   ],
   "source": [
    "a=20\n",
    "print(a,\"is a \",type(a),'type')"
   ]
  },
  {
   "cell_type": "code",
   "execution_count": 2,
   "id": "e81825b5",
   "metadata": {},
   "outputs": [
    {
     "name": "stdout",
     "output_type": "stream",
     "text": [
      "20.0 is a  <class 'float'> type\n"
     ]
    }
   ],
   "source": [
    "b=20.0\n",
    "print(b,\"is a \",type(b),'type')"
   ]
  },
  {
   "cell_type": "code",
   "execution_count": 3,
   "id": "38f327bd",
   "metadata": {},
   "outputs": [
    {
     "name": "stdout",
     "output_type": "stream",
     "text": [
      "(6+2j) is a  <class 'complex'> type\n"
     ]
    }
   ],
   "source": [
    "c=6+2j\n",
    "print(c,\"is a \",type(c),'type')"
   ]
  },
  {
   "cell_type": "code",
   "execution_count": 6,
   "id": "db7820d8",
   "metadata": {},
   "outputs": [
    {
     "name": "stdout",
     "output_type": "stream",
     "text": [
      "Python is a powerful language\n"
     ]
    }
   ],
   "source": [
    "first_str='Python '\n",
    "second_str='is a powerful '\n",
    "third_str='language'\n",
    "print(first_str+second_str+third_str)"
   ]
  },
  {
   "cell_type": "code",
   "execution_count": 8,
   "id": "e61c8c32",
   "metadata": {},
   "outputs": [
    {
     "name": "stdout",
     "output_type": "stream",
     "text": [
      "[20, 'string', 10.35]\n"
     ]
    }
   ],
   "source": [
    "list=[20,'string',10.35]  #  []\n",
    "print(list)"
   ]
  },
  {
   "cell_type": "code",
   "execution_count": 9,
   "id": "a7821c22",
   "metadata": {},
   "outputs": [
    {
     "name": "stdout",
     "output_type": "stream",
     "text": [
      "(20, 'string', 10.35)\n"
     ]
    }
   ],
   "source": [
    "its_tuple=(20,'string',10.35)   #   ()\n",
    "print(its_tuple)"
   ]
  },
  {
   "cell_type": "code",
   "execution_count": 10,
   "id": "cbbd6951",
   "metadata": {},
   "outputs": [
    {
     "name": "stdout",
     "output_type": "stream",
     "text": [
      "{1, 3.2, 100, 'set'}\n"
     ]
    }
   ],
   "source": [
    "set={100,1,3.2,\"set\",1}      #   {}\n",
    "print(set)    #it gives only one value if there are any duplicate values."
   ]
  },
  {
   "cell_type": "code",
   "execution_count": 11,
   "id": "f68e42af",
   "metadata": {},
   "outputs": [
    {
     "name": "stdout",
     "output_type": "stream",
     "text": [
      "{'name': 'Banglore', 'temp': '30'}\n"
     ]
    }
   ],
   "source": [
    "dictionary={'name':'Banglore','temp':'30'}    #  {key:value}\n",
    "print(dictionary)"
   ]
  },
  {
   "cell_type": "code",
   "execution_count": null,
   "id": "9178fe6e",
   "metadata": {},
   "outputs": [],
   "source": []
  }
 ],
 "metadata": {
  "kernelspec": {
   "display_name": "Python 3 (ipykernel)",
   "language": "python",
   "name": "python3"
  },
  "language_info": {
   "codemirror_mode": {
    "name": "ipython",
    "version": 3
   },
   "file_extension": ".py",
   "mimetype": "text/x-python",
   "name": "python",
   "nbconvert_exporter": "python",
   "pygments_lexer": "ipython3",
   "version": "3.10.9"
  }
 },
 "nbformat": 4,
 "nbformat_minor": 5
}
