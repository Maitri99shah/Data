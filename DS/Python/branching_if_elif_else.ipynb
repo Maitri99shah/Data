{
 "cells": [
  {
   "cell_type": "code",
   "execution_count": 1,
   "id": "69d65d3a",
   "metadata": {},
   "outputs": [
    {
     "name": "stdout",
     "output_type": "stream",
     "text": [
      "less than 5\n"
     ]
    }
   ],
   "source": [
    "i=4\n",
    "if i<3:\n",
    "    print('less than 3')\n",
    "elif i<5:\n",
    "    print('less than 5')\n",
    "else:\n",
    "    print('5 or more')"
   ]
  },
  {
   "cell_type": "code",
   "execution_count": 2,
   "id": "d5be0b0d",
   "metadata": {},
   "outputs": [
    {
     "name": "stdout",
     "output_type": "stream",
     "text": [
      "i is greater than j\n"
     ]
    }
   ],
   "source": [
    "i=29\n",
    "j=19\n",
    "if i>j:print(\"i is greater than j\")"
   ]
  },
  {
   "cell_type": "code",
   "execution_count": 3,
   "id": "5e90bd68",
   "metadata": {},
   "outputs": [
    {
     "name": "stdout",
     "output_type": "stream",
     "text": [
      "b\n"
     ]
    }
   ],
   "source": [
    "a=330\n",
    "b=330\n",
    "print(\"A\") if a>b else print(\"b\")"
   ]
  },
  {
   "cell_type": "code",
   "execution_count": 4,
   "id": "0b472a1a",
   "metadata": {},
   "outputs": [
    {
     "name": "stdout",
     "output_type": "stream",
     "text": [
      "=\n"
     ]
    }
   ],
   "source": [
    "a=330\n",
    "b=330\n",
    "print(\"A\") if a>b else print(\"=\") if a==b else print(\"B\")"
   ]
  },
  {
   "cell_type": "code",
   "execution_count": 5,
   "id": "ed079bc1",
   "metadata": {},
   "outputs": [],
   "source": [
    "a=1000\n",
    "b=400\n",
    "c=350\n",
    "if a>b and c>a :\n",
    "    print(\"both conditions are true.\")"
   ]
  },
  {
   "cell_type": "code",
   "execution_count": 6,
   "id": "a1a95ac6",
   "metadata": {},
   "outputs": [
    {
     "name": "stdout",
     "output_type": "stream",
     "text": [
      "at least one of conditions is true\n"
     ]
    }
   ],
   "source": [
    "a=200\n",
    "b=33\n",
    "c=500\n",
    "if a>b or a>c :\n",
    "    print(\"at least one of conditions is true\")"
   ]
  },
  {
   "cell_type": "code",
   "execution_count": 7,
   "id": "66a7c484",
   "metadata": {},
   "outputs": [
    {
     "name": "stdout",
     "output_type": "stream",
     "text": [
      "above ten\n",
      "and also above 20\n"
     ]
    }
   ],
   "source": [
    "x=65\n",
    "if x>60:\n",
    "    print(\"above ten\")\n",
    "    if x>50 :\n",
    "        print(\"and also above 20\")\n",
    "    else:\n",
    "        print(\"but not above 20\")"
   ]
  },
  {
   "cell_type": "code",
   "execution_count": 8,
   "id": "d9c843c4",
   "metadata": {},
   "outputs": [],
   "source": [
    "a=33\n",
    "b=200\n",
    "if b>a :\n",
    "    pass"
   ]
  },
  {
   "cell_type": "code",
   "execution_count": 9,
   "id": "36e0e9c9",
   "metadata": {},
   "outputs": [
    {
     "name": "stdout",
     "output_type": "stream",
     "text": [
      "i is 20\n"
     ]
    }
   ],
   "source": [
    "i=20\n",
    "if(i==10):\n",
    "    print(\"i is 10\")\n",
    "elif(i==15):\n",
    "    print(\"i is 15\")\n",
    "elif(i==20):\n",
    "    print(\"i is 20\")\n",
    "else:\n",
    "    print(\"i is not present\")"
   ]
  },
  {
   "cell_type": "code",
   "execution_count": null,
   "id": "9f19adf6",
   "metadata": {},
   "outputs": [],
   "source": []
  }
 ],
 "metadata": {
  "kernelspec": {
   "display_name": "Python 3 (ipykernel)",
   "language": "python",
   "name": "python3"
  },
  "language_info": {
   "codemirror_mode": {
    "name": "ipython",
    "version": 3
   },
   "file_extension": ".py",
   "mimetype": "text/x-python",
   "name": "python",
   "nbconvert_exporter": "python",
   "pygments_lexer": "ipython3",
   "version": "3.11.3"
  }
 },
 "nbformat": 4,
 "nbformat_minor": 5
}
