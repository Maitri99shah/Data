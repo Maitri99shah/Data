{
 "cells": [
  {
   "cell_type": "code",
   "execution_count": 2,
   "id": "ee6699fd",
   "metadata": {},
   "outputs": [
    {
     "name": "stdout",
     "output_type": "stream",
     "text": [
      "Hello world..\n"
     ]
    }
   ],
   "source": [
    "print(\"Hello world..\")"
   ]
  },
  {
   "cell_type": "code",
   "execution_count": 3,
   "id": "2d72d22c",
   "metadata": {},
   "outputs": [
    {
     "name": "stdout",
     "output_type": "stream",
     "text": [
      "Monty Shah\n"
     ]
    }
   ],
   "source": [
    "print(\"Monty Shah\")"
   ]
  },
  {
   "cell_type": "code",
   "execution_count": 12,
   "id": "9a08ee93",
   "metadata": {},
   "outputs": [
    {
     "name": "stdout",
     "output_type": "stream",
     "text": [
      "x =  10  and y =  5\n",
      "\n",
      "x+y =  15\n",
      "\n",
      "x-y =  5\n",
      "\n",
      "x*y =  50\n",
      "\n",
      "x/y =  2.0\n"
     ]
    }
   ],
   "source": [
    "x=10\n",
    "y=5\n",
    "print(\"x = \",x,\" and y = \",y)\n",
    "print(\"\\nx+y = \",x+y)\n",
    "print(\"\\nx-y = \",x-y)\n",
    "print(\"\\nx*y = \",x*y)\n",
    "print(\"\\nx/y = \",x/y)"
   ]
  },
  {
   "cell_type": "code",
   "execution_count": null,
   "id": "5c9934ad",
   "metadata": {},
   "outputs": [],
   "source": []
  },
  {
   "cell_type": "code",
   "execution_count": null,
   "id": "5eb2456f",
   "metadata": {},
   "outputs": [],
   "source": []
  },
  {
   "cell_type": "code",
   "execution_count": null,
   "id": "af3a6bb4",
   "metadata": {},
   "outputs": [],
   "source": []
  }
 ],
 "metadata": {
  "kernelspec": {
   "display_name": "Python 3 (ipykernel)",
   "language": "python",
   "name": "python3"
  },
  "language_info": {
   "codemirror_mode": {
    "name": "ipython",
    "version": 3
   },
   "file_extension": ".py",
   "mimetype": "text/x-python",
   "name": "python",
   "nbconvert_exporter": "python",
   "pygments_lexer": "ipython3",
   "version": "3.10.9"
  }
 },
 "nbformat": 4,
 "nbformat_minor": 5
}
