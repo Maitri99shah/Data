{
 "cells": [
  {
   "cell_type": "code",
   "execution_count": 1,
   "id": "86531971",
   "metadata": {},
   "outputs": [
    {
     "data": {
      "text/plain": [
       "'spam eggs'"
      ]
     },
     "execution_count": 1,
     "metadata": {},
     "output_type": "execute_result"
    }
   ],
   "source": [
    "'spam eggs' #single quotes"
   ]
  },
  {
   "cell_type": "code",
   "execution_count": 3,
   "id": "01e58906",
   "metadata": {},
   "outputs": [
    {
     "data": {
      "text/plain": [
       "\"Doesn't\""
      ]
     },
     "execution_count": 3,
     "metadata": {},
     "output_type": "execute_result"
    }
   ],
   "source": [
    "'Doesn\\'t'   #use \\' to escape the single quote "
   ]
  },
  {
   "cell_type": "code",
   "execution_count": 4,
   "id": "50b77483",
   "metadata": {},
   "outputs": [
    {
     "data": {
      "text/plain": [
       "\"Doesn't\""
      ]
     },
     "execution_count": 4,
     "metadata": {},
     "output_type": "execute_result"
    }
   ],
   "source": [
    "\"Doesn't\"   #use double quotes instead.."
   ]
  },
  {
   "cell_type": "code",
   "execution_count": 5,
   "id": "a5316e85",
   "metadata": {},
   "outputs": [
    {
     "data": {
      "text/plain": [
       "'\"yes,\" He said..'"
      ]
     },
     "execution_count": 5,
     "metadata": {},
     "output_type": "execute_result"
    }
   ],
   "source": [
    "'\"yes,\" He said..'  "
   ]
  },
  {
   "cell_type": "code",
   "execution_count": 6,
   "id": "8a046c19",
   "metadata": {},
   "outputs": [
    {
     "data": {
      "text/plain": [
       "'\"yes,\"he said..'"
      ]
     },
     "execution_count": 6,
     "metadata": {},
     "output_type": "execute_result"
    }
   ],
   "source": [
    "\"\\\"yes,\\\"he said..\""
   ]
  },
  {
   "cell_type": "code",
   "execution_count": 9,
   "id": "0902505c",
   "metadata": {},
   "outputs": [
    {
     "data": {
      "text/plain": [
       "'\"Isn\\'t \", she said..'"
      ]
     },
     "execution_count": 9,
     "metadata": {},
     "output_type": "execute_result"
    }
   ],
   "source": [
    "'\"Isn\\'t \", she said..'"
   ]
  },
  {
   "cell_type": "code",
   "execution_count": 10,
   "id": "71d7ca24",
   "metadata": {},
   "outputs": [
    {
     "name": "stdout",
     "output_type": "stream",
     "text": [
      "\"Isn't \", she said..\n"
     ]
    }
   ],
   "source": [
    "print('\"Isn\\'t \", she said..')"
   ]
  },
  {
   "cell_type": "code",
   "execution_count": 11,
   "id": "97525aac",
   "metadata": {},
   "outputs": [],
   "source": [
    "s='first line \\n second line'  # \\n means newline"
   ]
  },
  {
   "cell_type": "code",
   "execution_count": 12,
   "id": "12e7e692",
   "metadata": {},
   "outputs": [
    {
     "data": {
      "text/plain": [
       "'first line \\n second line'"
      ]
     },
     "execution_count": 12,
     "metadata": {},
     "output_type": "execute_result"
    }
   ],
   "source": [
    "s    # withount print() \\n is included in output."
   ]
  },
  {
   "cell_type": "code",
   "execution_count": 13,
   "id": "70705999",
   "metadata": {},
   "outputs": [
    {
     "name": "stdout",
     "output_type": "stream",
     "text": [
      "first line \n",
      " second line\n"
     ]
    }
   ],
   "source": [
    "print(s)  # with print() produce new line"
   ]
  },
  {
   "cell_type": "code",
   "execution_count": 15,
   "id": "0555396a",
   "metadata": {},
   "outputs": [
    {
     "name": "stdout",
     "output_type": "stream",
     "text": [
      "C:\\some\n",
      "ame\n"
     ]
    }
   ],
   "source": [
    "print('C:\\some\\name')   # hear \\n means new line"
   ]
  },
  {
   "cell_type": "code",
   "execution_count": 50,
   "id": "2bd982c5",
   "metadata": {},
   "outputs": [
    {
     "name": "stdout",
     "output_type": "stream",
     "text": [
      "c:\\some\\name\n"
     ]
    }
   ],
   "source": [
    "print(r'c:\\some\\name')    #note r before the string, raw string"
   ]
  },
  {
   "cell_type": "code",
   "execution_count": 18,
   "id": "c72ce542",
   "metadata": {},
   "outputs": [
    {
     "name": "stdout",
     "output_type": "stream",
     "text": [
      "Usage: thingy [OPTIONS]\n",
      "-h\n",
      "-H hostname\n",
      "\n"
     ]
    }
   ],
   "source": [
    "print(\"\"\"\\\n",
    "Usage: thingy [OPTIONS]\n",
    "-h                     \n",
    "-H hostname\n",
    "\"\"\")"
   ]
  },
  {
   "cell_type": "code",
   "execution_count": 19,
   "id": "121fc854",
   "metadata": {},
   "outputs": [
    {
     "data": {
      "text/plain": [
       "'umumumium'"
      ]
     },
     "execution_count": 19,
     "metadata": {},
     "output_type": "execute_result"
    }
   ],
   "source": [
    "3*'um'+'ium'   # strings can be concatenated with + operator and repeated with *"
   ]
  },
  {
   "cell_type": "code",
   "execution_count": 23,
   "id": "bfe466a3",
   "metadata": {},
   "outputs": [
    {
     "ename": "SyntaxError",
     "evalue": "invalid syntax (4205524739.py, line 1)",
     "output_type": "error",
     "traceback": [
      "\u001b[1;36m  Cell \u001b[1;32mIn[23], line 1\u001b[1;36m\u001b[0m\n\u001b[1;33m    ('um'*3)'ium'\u001b[0m\n\u001b[1;37m            ^\u001b[0m\n\u001b[1;31mSyntaxError\u001b[0m\u001b[1;31m:\u001b[0m invalid syntax\n"
     ]
    }
   ],
   "source": [
    "('um'*3)'ium'                                                   "
   ]
  },
  {
   "cell_type": "code",
   "execution_count": 20,
   "id": "15aceddd",
   "metadata": {},
   "outputs": [
    {
     "data": {
      "text/plain": [
       "'python'"
      ]
     },
     "execution_count": 20,
     "metadata": {},
     "output_type": "execute_result"
    }
   ],
   "source": [
    "'py''thon'   # two or more strings next to each other automatically concatenated "
   ]
  },
  {
   "cell_type": "code",
   "execution_count": 21,
   "id": "abad5bd6",
   "metadata": {},
   "outputs": [
    {
     "data": {
      "text/plain": [
       "'2 strings can be joined in the parenthesis'"
      ]
     },
     "execution_count": 21,
     "metadata": {},
     "output_type": "execute_result"
    }
   ],
   "source": [
    "text=('2 strings can be joined ''in the parenthesis')\n",
    "text"
   ]
  },
  {
   "cell_type": "code",
   "execution_count": 22,
   "id": "9d091c80",
   "metadata": {},
   "outputs": [
    {
     "ename": "SyntaxError",
     "evalue": "invalid syntax (58080260.py, line 2)",
     "output_type": "error",
     "traceback": [
      "\u001b[1;36m  Cell \u001b[1;32mIn[22], line 2\u001b[1;36m\u001b[0m\n\u001b[1;33m    prefix 'thon'\u001b[0m\n\u001b[1;37m           ^\u001b[0m\n\u001b[1;31mSyntaxError\u001b[0m\u001b[1;31m:\u001b[0m invalid syntax\n"
     ]
    }
   ],
   "source": [
    "prefix='py'\n",
    "prefix 'thon'  # can't concatenate a variable and string"
   ]
  },
  {
   "cell_type": "code",
   "execution_count": 25,
   "id": "fb7c3af8",
   "metadata": {},
   "outputs": [
    {
     "data": {
      "text/plain": [
       "'python'"
      ]
     },
     "execution_count": 25,
     "metadata": {},
     "output_type": "execute_result"
    }
   ],
   "source": [
    "prefix='py'\n",
    "prefix+'thon'  # string concate with + operator"
   ]
  },
  {
   "cell_type": "code",
   "execution_count": 26,
   "id": "9e0c0842",
   "metadata": {},
   "outputs": [
    {
     "data": {
      "text/plain": [
       "'n'"
      ]
     },
     "execution_count": 26,
     "metadata": {},
     "output_type": "execute_result"
    }
   ],
   "source": [
    "word='python'\n",
    "word[0]\n",
    "word[5] "
   ]
  },
  {
   "cell_type": "code",
   "execution_count": 27,
   "id": "0dc7b6f4",
   "metadata": {},
   "outputs": [
    {
     "data": {
      "text/plain": [
       "'p'"
      ]
     },
     "execution_count": 27,
     "metadata": {},
     "output_type": "execute_result"
    }
   ],
   "source": [
    "word[0]     #character in postion[0]"
   ]
  },
  {
   "cell_type": "code",
   "execution_count": 28,
   "id": "c0274a40",
   "metadata": {},
   "outputs": [
    {
     "data": {
      "text/plain": [
       "'n'"
      ]
     },
     "execution_count": 28,
     "metadata": {},
     "output_type": "execute_result"
    }
   ],
   "source": [
    "word[5]     # character in position[5]"
   ]
  },
  {
   "cell_type": "code",
   "execution_count": 29,
   "id": "ff18be49",
   "metadata": {},
   "outputs": [
    {
     "data": {
      "text/plain": [
       "'n'"
      ]
     },
     "execution_count": 29,
     "metadata": {},
     "output_type": "execute_result"
    }
   ],
   "source": [
    "word[-1]    # last character"
   ]
  },
  {
   "cell_type": "code",
   "execution_count": 30,
   "id": "31b9c99c",
   "metadata": {},
   "outputs": [
    {
     "data": {
      "text/plain": [
       "'y'"
      ]
     },
     "execution_count": 30,
     "metadata": {},
     "output_type": "execute_result"
    }
   ],
   "source": [
    "word[-5]    # fifth last character"
   ]
  },
  {
   "cell_type": "code",
   "execution_count": 31,
   "id": "b41e0837",
   "metadata": {},
   "outputs": [
    {
     "data": {
      "text/plain": [
       "'py'"
      ]
     },
     "execution_count": 31,
     "metadata": {},
     "output_type": "execute_result"
    }
   ],
   "source": [
    "word[0:2]   #character from position 0(included) to 2(excluded)"
   ]
  },
  {
   "cell_type": "code",
   "execution_count": 32,
   "id": "bb9f6814",
   "metadata": {},
   "outputs": [
    {
     "data": {
      "text/plain": [
       "'thon'"
      ]
     },
     "execution_count": 32,
     "metadata": {},
     "output_type": "execute_result"
    }
   ],
   "source": [
    "word[2:6]    #character from position 2(included) to 6(excluded)"
   ]
  },
  {
   "cell_type": "code",
   "execution_count": 33,
   "id": "0b5341e4",
   "metadata": {},
   "outputs": [
    {
     "data": {
      "text/plain": [
       "'python'"
      ]
     },
     "execution_count": 33,
     "metadata": {},
     "output_type": "execute_result"
    }
   ],
   "source": [
    "word[:2]+word[2:]   "
   ]
  },
  {
   "cell_type": "code",
   "execution_count": 39,
   "id": "50cc4013",
   "metadata": {},
   "outputs": [
    {
     "data": {
      "text/plain": [
       "'pon'"
      ]
     },
     "execution_count": 39,
     "metadata": {},
     "output_type": "execute_result"
    }
   ],
   "source": [
    "word[:1]+word[4:]"
   ]
  },
  {
   "cell_type": "raw",
   "id": "aca7532f",
   "metadata": {},
   "source": []
  },
  {
   "cell_type": "code",
   "execution_count": 40,
   "id": "6976532b",
   "metadata": {},
   "outputs": [
    {
     "data": {
      "text/plain": [
       "'py'"
      ]
     },
     "execution_count": 40,
     "metadata": {},
     "output_type": "execute_result"
    }
   ],
   "source": [
    "word[:2]   # character from beginning to postion 2(excluded)"
   ]
  },
  {
   "cell_type": "code",
   "execution_count": 41,
   "id": "c1e7a8ef",
   "metadata": {},
   "outputs": [
    {
     "data": {
      "text/plain": [
       "'on'"
      ]
     },
     "execution_count": 41,
     "metadata": {},
     "output_type": "execute_result"
    }
   ],
   "source": [
    "word[4:]   #character from positin 4(included) to end"
   ]
  },
  {
   "cell_type": "code",
   "execution_count": 42,
   "id": "454f564e",
   "metadata": {},
   "outputs": [
    {
     "data": {
      "text/plain": [
       "'on'"
      ]
     },
     "execution_count": 42,
     "metadata": {},
     "output_type": "execute_result"
    }
   ],
   "source": [
    "word[-2:]    # character from second-last(included) to the end"
   ]
  },
  {
   "cell_type": "code",
   "execution_count": 43,
   "id": "da4aa10d",
   "metadata": {},
   "outputs": [
    {
     "data": {
      "text/plain": [
       "'on'"
      ]
     },
     "execution_count": 43,
     "metadata": {},
     "output_type": "execute_result"
    }
   ],
   "source": [
    "word[4:42]"
   ]
  },
  {
   "cell_type": "code",
   "execution_count": 44,
   "id": "956d94b2",
   "metadata": {},
   "outputs": [
    {
     "data": {
      "text/plain": [
       "''"
      ]
     },
     "execution_count": 44,
     "metadata": {},
     "output_type": "execute_result"
    }
   ],
   "source": [
    "word[42:]"
   ]
  },
  {
   "cell_type": "code",
   "execution_count": 46,
   "id": "2b21d793",
   "metadata": {},
   "outputs": [
    {
     "ename": "TypeError",
     "evalue": "'str' object does not support item assignment",
     "output_type": "error",
     "traceback": [
      "\u001b[1;31m---------------------------------------------------------------------------\u001b[0m",
      "\u001b[1;31mTypeError\u001b[0m                                 Traceback (most recent call last)",
      "Cell \u001b[1;32mIn[46], line 1\u001b[0m\n\u001b[1;32m----> 1\u001b[0m word[\u001b[38;5;241m0\u001b[39m] \u001b[38;5;241m=\u001b[39m\u001b[38;5;124m'\u001b[39m\u001b[38;5;124mj\u001b[39m\u001b[38;5;124m'\u001b[39m\n",
      "\u001b[1;31mTypeError\u001b[0m: 'str' object does not support item assignment"
     ]
    }
   ],
   "source": [
    "word[0] ='j'"
   ]
  },
  {
   "cell_type": "code",
   "execution_count": 47,
   "id": "3b55829e",
   "metadata": {},
   "outputs": [
    {
     "data": {
      "text/plain": [
       "'jython'"
      ]
     },
     "execution_count": 47,
     "metadata": {},
     "output_type": "execute_result"
    }
   ],
   "source": [
    "'j'+word[1:]"
   ]
  },
  {
   "cell_type": "code",
   "execution_count": 48,
   "id": "88fa3fc5",
   "metadata": {},
   "outputs": [
    {
     "data": {
      "text/plain": [
       "'pypy'"
      ]
     },
     "execution_count": 48,
     "metadata": {},
     "output_type": "execute_result"
    }
   ],
   "source": [
    "word[:2]+'py'"
   ]
  },
  {
   "cell_type": "code",
   "execution_count": 49,
   "id": "cd2d1cd6",
   "metadata": {},
   "outputs": [
    {
     "data": {
      "text/plain": [
       "34"
      ]
     },
     "execution_count": 49,
     "metadata": {},
     "output_type": "execute_result"
    }
   ],
   "source": [
    "s='supercalifragilisticexpialidocious'\n",
    "len(s)"
   ]
  },
  {
   "cell_type": "code",
   "execution_count": null,
   "id": "3ce44529",
   "metadata": {},
   "outputs": [],
   "source": []
  }
 ],
 "metadata": {
  "kernelspec": {
   "display_name": "Python 3 (ipykernel)",
   "language": "python",
   "name": "python3"
  },
  "language_info": {
   "codemirror_mode": {
    "name": "ipython",
    "version": 3
   },
   "file_extension": ".py",
   "mimetype": "text/x-python",
   "name": "python",
   "nbconvert_exporter": "python",
   "pygments_lexer": "ipython3",
   "version": "3.10.9"
  }
 },
 "nbformat": 4,
 "nbformat_minor": 5
}
